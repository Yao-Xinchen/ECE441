{
 "cells": [
  {
   "cell_type": "markdown",
   "metadata": {
    "tags": []
   },
   "source": [
    "# Introduction to Numpy\n",
    "© Ehsan Saleh, 2023"
   ]
  },
  {
   "cell_type": "markdown",
   "metadata": {},
   "source": [
    "### Let's get started!"
   ]
  },
  {
   "cell_type": "code",
   "execution_count": null,
   "metadata": {},
   "outputs": [],
   "source": [
    "%matplotlib inline\n",
    "import numpy as np\n",
    "import matplotlib.pyplot as plt\n",
    "from IPython.display import display, HTML\n",
    "display(HTML(\"<style>.container { width:90% !important; }</style>\"))"
   ]
  },
  {
   "cell_type": "markdown",
   "metadata": {},
   "source": [
    "# Numpy"
   ]
  },
  {
   "cell_type": "markdown",
   "metadata": {},
   "source": [
    "## Scalar vs. Matrix vs. Tensor\n",
    "\n",
    "<img src=\"02_tensors.jpeg\" alt=\"Drawing\" style=\"width: 50%;\"/>\n",
    "\n",
    "Credits: [https://www.i2tutorials.com/what-do-you-mean-by-tensor-and-explain-about-tensor-datatype-and-ranks/](https://www.i2tutorials.com/what-do-you-mean-by-tensor-and-explain-about-tensor-datatype-and-ranks/)\n",
    "\n",
    "* Numpy arrays and PyTorch tensors are all \"tensors\".\n",
    "\n",
    "* Each tensor has a number of dimensions:\n",
    "  * *Scalars* are 0-dimensional tensors.\n",
    "  * *Vectors* are 1-dimensional tensors.\n",
    "  * *Matrices* are 2-dimensional tensors.\n",
    "  * We can have n-dimensional tensors the same way.\n",
    "  \n",
    "In the course, we may use the \"array”, \"tensor”, and “matrix” terms interchangeably. "
   ]
  },
  {
   "cell_type": "markdown",
   "metadata": {},
   "source": [
    "## 1. Array Attributes\n",
    "\n",
    "Let's say `arr` is a numpy array. These are some key attributes:\n",
    "\n",
    "* **Shape**: `arr.shape` denotes the dimensions of the array. This is a tuple of integers indicating the size of the array in each dimension. \n",
    "\n",
    "\n",
    "* **Size**: `arr.size` denotes the total number of elements of the array.\n",
    "\n",
    "\n",
    "* **Data-type**: `arr.dtype` denotes the type of the elements in the array. Some examples are `int32`, `int64`, `float32`, `float64`, `bool` and so on.\n",
    "\n",
    "\n",
    "* **Number of Dimensions**: `arr.ndim` denotes the number of dimensions in the array.\n",
    "\n",
    "\n",
    "In other words, we have \n",
    "```\n",
    "arr.size == np.prod(arr.shape)\n",
    "arr.ndim == len(arr.shape)\n",
    "```"
   ]
  },
  {
   "cell_type": "code",
   "execution_count": null,
   "metadata": {},
   "outputs": [],
   "source": [
    "a = np.array([[1, 2, 3], \n",
    "              [5, 6, 7]])"
   ]
  },
  {
   "cell_type": "code",
   "execution_count": null,
   "metadata": {},
   "outputs": [],
   "source": [
    "# The number of dimensions in `a`\n",
    "a.ndim"
   ]
  },
  {
   "cell_type": "code",
   "execution_count": null,
   "metadata": {},
   "outputs": [],
   "source": [
    "# Let's check out the shape of `a`\n",
    "a.shape"
   ]
  },
  {
   "cell_type": "code",
   "execution_count": null,
   "metadata": {},
   "outputs": [],
   "source": [
    "# Let's look at what data-type numpy used for storing `a`\n",
    "a.dtype"
   ]
  },
  {
   "cell_type": "markdown",
   "metadata": {},
   "source": [
    "**Question**: Why did numpy assign a data type of `int64` as opposed to `float64`?\n",
    "\n",
    "**Answer**: The lists `[1, 2, 3]` and `[5, 6, 7]` included only integer numbers. If any of the numbers had decimals, the resulting array would have had a floating-point data type."
   ]
  },
  {
   "cell_type": "code",
   "execution_count": null,
   "metadata": {},
   "outputs": [],
   "source": [
    "# Let's select the first entry in `a`\n",
    "b = a[0]\n",
    "b.shape"
   ]
  },
  {
   "cell_type": "code",
   "execution_count": null,
   "metadata": {},
   "outputs": [],
   "source": [
    "b.size"
   ]
  },
  {
   "cell_type": "code",
   "execution_count": null,
   "metadata": {},
   "outputs": [],
   "source": [
    "c = b[0]\n",
    "c.shape"
   ]
  },
  {
   "cell_type": "code",
   "execution_count": null,
   "metadata": {},
   "outputs": [],
   "source": [
    "c.size"
   ]
  },
  {
   "cell_type": "code",
   "execution_count": null,
   "metadata": {},
   "outputs": [],
   "source": [
    "d = a[0, 0]\n",
    "d.shape"
   ]
  },
  {
   "cell_type": "code",
   "execution_count": null,
   "metadata": {},
   "outputs": [],
   "source": [
    "d.size"
   ]
  },
  {
   "cell_type": "markdown",
   "metadata": {},
   "source": [
    "**Question**: What does a shape of `()` even mean?\n",
    "\n",
    "**Answer**: `()` is an empty tuple. Every time you index one of the array dimensions, the output loses that dimension. Since `a` initially had two dimensions, `a[0, 0]` ends up having zero dimensions."
   ]
  },
  {
   "cell_type": "code",
   "execution_count": null,
   "metadata": {},
   "outputs": [],
   "source": [
    "# Let's create an array with a single entry\n",
    "c = np.array([1])\n",
    "c.shape"
   ]
  },
  {
   "cell_type": "markdown",
   "metadata": {},
   "source": [
    "**Question**: Is `c` different from `b`? \n",
    "  * If yes, aren't they both scalars?\n",
    "  * If no, then why do they have different shapes?\n",
    "\n",
    "Also, see the next cell."
   ]
  },
  {
   "cell_type": "code",
   "execution_count": null,
   "metadata": {},
   "outputs": [],
   "source": [
    "a = np.array(3)\n",
    "b = np.array([3])\n",
    "c = np.array([[3]])\n",
    "d = np.array([[[3]]])\n",
    "\n",
    "print(f'a.shape ==> {a.shape}')\n",
    "print(f'b.shape ==> {b.shape}')\n",
    "print(f'c.shape ==> {c.shape}')\n",
    "print(f'd.shape ==> {d.shape}')"
   ]
  },
  {
   "cell_type": "markdown",
   "metadata": {},
   "source": [
    "**Answer**: Indeed all of them are different, even though they all have identical underlying data. Even if the shapes only differ in some dummy dimensions of one, they're still considered to be different. \n",
    "\n",
    "These dummy dimensions of one do impact the alignment of dimensions when broadcasting; different shapes can lead to different operation/function behaviors. "
   ]
  },
  {
   "cell_type": "markdown",
   "metadata": {},
   "source": [
    "## 2. Creating Numpy Arrays"
   ]
  },
  {
   "cell_type": "markdown",
   "metadata": {},
   "source": [
    "### Creating an all zeros array"
   ]
  },
  {
   "cell_type": "code",
   "execution_count": null,
   "metadata": {},
   "outputs": [],
   "source": [
    "z = np.zeros((2,3,4), dtype=np.float32)\n",
    "z"
   ]
  },
  {
   "cell_type": "code",
   "execution_count": null,
   "metadata": {},
   "outputs": [],
   "source": [
    "z.shape"
   ]
  },
  {
   "cell_type": "markdown",
   "metadata": {},
   "source": [
    "### Creating an all ones array"
   ]
  },
  {
   "cell_type": "code",
   "execution_count": null,
   "metadata": {},
   "outputs": [],
   "source": [
    "o = np.ones((2,3,4), dtype=np.float32)\n",
    "o"
   ]
  },
  {
   "cell_type": "markdown",
   "metadata": {},
   "source": [
    "### Creating a range of values"
   ]
  },
  {
   "cell_type": "code",
   "execution_count": null,
   "metadata": {},
   "outputs": [],
   "source": [
    "r = np.arange(8)\n",
    "r"
   ]
  },
  {
   "cell_type": "markdown",
   "metadata": {},
   "source": [
    "### Creating a linear spacing of values"
   ]
  },
  {
   "cell_type": "code",
   "execution_count": null,
   "metadata": {},
   "outputs": [],
   "source": [
    "l = np.linspace(0, 100, 6)\n",
    "l"
   ]
  },
  {
   "cell_type": "markdown",
   "metadata": {},
   "source": [
    "### Creating an identity matrix"
   ]
  },
  {
   "cell_type": "code",
   "execution_count": null,
   "metadata": {},
   "outputs": [],
   "source": [
    "i = np.eye(3)\n",
    "i"
   ]
  },
  {
   "cell_type": "markdown",
   "metadata": {},
   "source": [
    "### Creating a diagonal matrix"
   ]
  },
  {
   "cell_type": "code",
   "execution_count": null,
   "metadata": {},
   "outputs": [],
   "source": [
    "d = np.diag([1,3,4])\n",
    "d"
   ]
  },
  {
   "cell_type": "markdown",
   "metadata": {},
   "source": [
    "### Creating an array filled with a value"
   ]
  },
  {
   "cell_type": "code",
   "execution_count": null,
   "metadata": {},
   "outputs": [],
   "source": [
    "# Creating a full array\n",
    "f = np.full((2,3,4), 9, dtype=np.float32)\n",
    "f"
   ]
  },
  {
   "cell_type": "markdown",
   "metadata": {},
   "source": [
    "### Concatenating arrays"
   ]
  },
  {
   "cell_type": "code",
   "execution_count": null,
   "metadata": {},
   "outputs": [],
   "source": [
    "a = np.zeros((1, 2, 3))\n",
    "b = np.ones((1, 2, 3))\n",
    "\n",
    "c = np.concatenate([a, b], axis=0)\n",
    "d = np.concatenate([a, b], axis=1)\n",
    "e = np.concatenate([a, b, a, a], axis=2)\n",
    "\n",
    "print(f'a.shape == {a.shape}')\n",
    "print(f'b.shape == {b.shape}')\n",
    "print(f'np.concatenate([a, b], axis=0)       --> shape == {c.shape}')\n",
    "print(f'np.concatenate([a, b], axis=1)       --> shape == {d.shape}')\n",
    "print(f'np.concatenate([a, b, a, a], axis=2) --> shape == {e.shape}')"
   ]
  },
  {
   "cell_type": "markdown",
   "metadata": {},
   "source": [
    "### Creating randomized arrays"
   ]
  },
  {
   "cell_type": "code",
   "execution_count": null,
   "metadata": {},
   "outputs": [],
   "source": [
    "# Sampling from the normal distribution\n",
    "norm = np.random.randn(2, 3, 4)\n",
    "norm"
   ]
  },
  {
   "cell_type": "code",
   "execution_count": null,
   "metadata": {},
   "outputs": [],
   "source": [
    "# Sampling from the uniform distribution over [0, 1]\n",
    "unif = np.random.rand(2, 3, 4)\n",
    "unif"
   ]
  },
  {
   "cell_type": "markdown",
   "metadata": {},
   "source": [
    "You can find a list of distributions to sample from at https://numpy.org/doc/stable/reference/random/legacy.html"
   ]
  },
  {
   "cell_type": "markdown",
   "metadata": {},
   "source": [
    "## 3. Array Operations"
   ]
  },
  {
   "cell_type": "markdown",
   "metadata": {},
   "source": [
    "* The underlying data for all arrays is stored sequentially in the memory.\n",
    "* However, we can *view* the same data differently.\n",
    "* Reshaping does just that!\n",
    "\n",
    "<img src=\"03_reshape.webp\" alt=\"Drawing\" style=\"width: 50%;\"/>\n",
    "\n",
    "Credits: https://geekflare.com/numpy-reshape-arrays-in-python/"
   ]
  },
  {
   "cell_type": "code",
   "execution_count": null,
   "metadata": {},
   "outputs": [],
   "source": [
    "a = np.arange(12)\n",
    "a"
   ]
  },
  {
   "cell_type": "code",
   "execution_count": null,
   "metadata": {},
   "outputs": [],
   "source": [
    "b = a.reshape(3, 4)\n",
    "b"
   ]
  },
  {
   "cell_type": "code",
   "execution_count": null,
   "metadata": {},
   "outputs": [],
   "source": [
    "c = a.reshape(3, 2, 2)\n",
    "c"
   ]
  },
  {
   "cell_type": "markdown",
   "metadata": {},
   "source": [
    "You can insert an arbitrary number of dummy dimensions of one. These can help you align the arrays for broadcasting operations (more on this later)."
   ]
  },
  {
   "cell_type": "code",
   "execution_count": null,
   "metadata": {},
   "outputs": [],
   "source": [
    "d = a.reshape(1, 1, 12, 1)\n",
    "d"
   ]
  },
  {
   "cell_type": "markdown",
   "metadata": {},
   "source": [
    "All four variables share the same underlying data:"
   ]
  },
  {
   "cell_type": "code",
   "execution_count": null,
   "metadata": {},
   "outputs": [],
   "source": [
    "print(f'The memory location of a.data: {hex(a.__array_interface__[\"data\"][0])}')\n",
    "print(f'The memory location of b.data: {hex(b.__array_interface__[\"data\"][0])}')\n",
    "print(f'The memory location of c.data: {hex(c.__array_interface__[\"data\"][0])}')\n",
    "print(f'The memory location of d.data: {hex(d.__array_interface__[\"data\"][0])}')"
   ]
  },
  {
   "cell_type": "markdown",
   "metadata": {},
   "source": [
    "## Reshaping is not the same as transposing!"
   ]
  },
  {
   "cell_type": "code",
   "execution_count": null,
   "metadata": {},
   "outputs": [],
   "source": [
    "b"
   ]
  },
  {
   "cell_type": "code",
   "execution_count": null,
   "metadata": {},
   "outputs": [],
   "source": [
    "b.reshape(4, 3)"
   ]
  },
  {
   "cell_type": "code",
   "execution_count": null,
   "metadata": {},
   "outputs": [],
   "source": [
    "b.transpose()"
   ]
  },
  {
   "cell_type": "markdown",
   "metadata": {},
   "source": [
    "### Slicing an array"
   ]
  },
  {
   "cell_type": "code",
   "execution_count": null,
   "metadata": {},
   "outputs": [],
   "source": [
    "a = np.linspace(0, 100, 11)\n",
    "a"
   ]
  },
  {
   "cell_type": "code",
   "execution_count": null,
   "metadata": {},
   "outputs": [],
   "source": [
    "a[3:7]"
   ]
  },
  {
   "cell_type": "code",
   "execution_count": null,
   "metadata": {},
   "outputs": [],
   "source": [
    "# You can do this in multiple dimensions\n",
    "b = np.arange(30).reshape(5, 6)\n",
    "b"
   ]
  },
  {
   "cell_type": "code",
   "execution_count": null,
   "metadata": {},
   "outputs": [],
   "source": [
    "b[0:4:2, 0:6:2]"
   ]
  },
  {
   "cell_type": "markdown",
   "metadata": {},
   "source": [
    "## Broadcasting"
   ]
  },
  {
   "cell_type": "markdown",
   "metadata": {},
   "source": [
    "It's just \"virtual stretching\" across dummy dimensions of size one:\n",
    "\n",
    "<img src=\"08_bcast.png\" alt=\"Drawing\" style=\"width: 50%;\"/>\n",
    "\n",
    "Credits: https://numpy.org/doc/stable/user/basics.broadcasting.html"
   ]
  },
  {
   "cell_type": "code",
   "execution_count": null,
   "metadata": {},
   "outputs": [],
   "source": [
    "a = np.array([1, 2, 3])\n",
    "assert a.shape == (3,)\n",
    "\n",
    "b = np.array([2])\n",
    "assert b.shape == (1,)\n",
    "\n",
    "c = a * b\n",
    "assert c.shape == (3,)\n",
    "\n",
    "c"
   ]
  },
  {
   "cell_type": "markdown",
   "metadata": {},
   "source": [
    "<img src=\"09_bcast.png\" alt=\"Drawing\" style=\"width: 50%;\"/>"
   ]
  },
  {
   "cell_type": "code",
   "execution_count": null,
   "metadata": {},
   "outputs": [],
   "source": [
    "a = np.array([[ 0,  0,  0],\n",
    "              [10, 10, 10],\n",
    "              [20, 20, 20],\n",
    "              [30, 30, 30]])\n",
    "assert a.shape == (4, 3)\n",
    "\n",
    "b = np.array([[1, 2, 3]])\n",
    "assert b.shape == (1, 3)\n",
    "\n",
    "c = a + b\n",
    "assert c.shape == (4, 3)\n",
    "\n",
    "c"
   ]
  },
  {
   "cell_type": "markdown",
   "metadata": {},
   "source": [
    "Two arrays can have no identical dimensions, yet still be broadcastable!"
   ]
  },
  {
   "cell_type": "markdown",
   "metadata": {},
   "source": [
    "<img src=\"10_bcast.png\" alt=\"Drawing\" style=\"width: 50%;\"/>"
   ]
  },
  {
   "cell_type": "code",
   "execution_count": null,
   "metadata": {},
   "outputs": [],
   "source": [
    "a = np.array([[ 0], \n",
    "              [10], \n",
    "              [20], \n",
    "              [30]])\n",
    "assert a.shape == (4, 1)\n",
    "\n",
    "b = np.array([[1, 2, 3]])\n",
    "assert b.shape == (1, 3)\n",
    "\n",
    "c = a + b\n",
    "assert c.shape == (4, 3)\n",
    "\n",
    "c"
   ]
  },
  {
   "cell_type": "markdown",
   "metadata": {},
   "source": [
    "### Type casting"
   ]
  },
  {
   "cell_type": "code",
   "execution_count": null,
   "metadata": {},
   "outputs": [],
   "source": [
    "a = np.array([[-1, 0, 4, 5]])\n",
    "\n",
    "a"
   ]
  },
  {
   "cell_type": "code",
   "execution_count": null,
   "metadata": {},
   "outputs": [],
   "source": [
    "a.astype(np.int32)"
   ]
  },
  {
   "cell_type": "code",
   "execution_count": null,
   "metadata": {},
   "outputs": [],
   "source": [
    "a.astype(np.float32)"
   ]
  },
  {
   "cell_type": "markdown",
   "metadata": {},
   "source": [
    "Be careful with overflows and underflows"
   ]
  },
  {
   "cell_type": "code",
   "execution_count": null,
   "metadata": {},
   "outputs": [],
   "source": [
    "a.astype(np.uint8)"
   ]
  },
  {
   "cell_type": "code",
   "execution_count": null,
   "metadata": {},
   "outputs": [],
   "source": [
    "a.astype(np.bool)"
   ]
  },
  {
   "cell_type": "code",
   "execution_count": null,
   "metadata": {},
   "outputs": [],
   "source": [
    "b = (a == 4)\n",
    "\n",
    "b.astype(np.float32)"
   ]
  },
  {
   "cell_type": "markdown",
   "metadata": {},
   "source": [
    "You can cast one array into another array's data type"
   ]
  },
  {
   "cell_type": "code",
   "execution_count": null,
   "metadata": {},
   "outputs": [],
   "source": [
    "b.astype(a.dtype)"
   ]
  },
  {
   "cell_type": "markdown",
   "metadata": {},
   "source": [
    "### Some basic comparison operations"
   ]
  },
  {
   "cell_type": "code",
   "execution_count": null,
   "metadata": {},
   "outputs": [],
   "source": [
    "a = np.array([[1, 3, 4, 5]])\n",
    "assert a.shape == (1, 4)\n",
    "\n",
    "b = np.array([[5],\n",
    "              [6]])\n",
    "assert b.shape == (2, 1)"
   ]
  },
  {
   "cell_type": "code",
   "execution_count": null,
   "metadata": {},
   "outputs": [],
   "source": [
    "c = (a == b)\n",
    "assert c.shape == (2, 4)\n",
    "\n",
    "c"
   ]
  },
  {
   "cell_type": "code",
   "execution_count": null,
   "metadata": {},
   "outputs": [],
   "source": [
    "c = (a > b)\n",
    "assert c.shape == (2, 4)\n",
    "\n",
    "c"
   ]
  },
  {
   "cell_type": "code",
   "execution_count": null,
   "metadata": {},
   "outputs": [],
   "source": [
    "c = (a <= b)\n",
    "assert c.shape == (2, 4)\n",
    "\n",
    "c"
   ]
  },
  {
   "cell_type": "code",
   "execution_count": null,
   "metadata": {},
   "outputs": [],
   "source": [
    "c = (a != b)\n",
    "assert c.shape == (2, 4)\n",
    "\n",
    "c"
   ]
  },
  {
   "cell_type": "markdown",
   "metadata": {},
   "source": [
    "### Some elementwise functions"
   ]
  },
  {
   "cell_type": "code",
   "execution_count": null,
   "metadata": {},
   "outputs": [],
   "source": [
    "# Raising to the power of 2\n",
    "a ** 2 "
   ]
  },
  {
   "cell_type": "code",
   "execution_count": null,
   "metadata": {},
   "outputs": [],
   "source": [
    "# Exponentiating\n",
    "np.exp(a)"
   ]
  },
  {
   "cell_type": "code",
   "execution_count": null,
   "metadata": {},
   "outputs": [],
   "source": [
    "# Logarithms\n",
    "np.log(a)"
   ]
  },
  {
   "cell_type": "code",
   "execution_count": null,
   "metadata": {},
   "outputs": [],
   "source": [
    "# trigonometry functions \n",
    "np.sin(a)"
   ]
  },
  {
   "cell_type": "markdown",
   "metadata": {},
   "source": [
    "### Some matrix operations"
   ]
  },
  {
   "cell_type": "code",
   "execution_count": null,
   "metadata": {},
   "outputs": [],
   "source": [
    "# Matrix multiplications\n",
    "b = a @ a.transpose()\n",
    "b"
   ]
  },
  {
   "cell_type": "code",
   "execution_count": null,
   "metadata": {},
   "outputs": [],
   "source": [
    "# Matrix inversion\n",
    "np.linalg.inv(b)"
   ]
  },
  {
   "cell_type": "code",
   "execution_count": null,
   "metadata": {},
   "outputs": [],
   "source": [
    "# Singular Value Decomposition\n",
    "u, s, v = np.linalg.svd(a)\n",
    "s"
   ]
  },
  {
   "cell_type": "markdown",
   "metadata": {},
   "source": [
    "### Reduction Fucntions\n",
    "\n",
    "First, you need to learn how the `axis` argument works!\n",
    "\n",
    "<img src=\"05_axis.png\" alt=\"Drawing\" style=\"width: 50%;\"/>\n",
    "\n",
    "Credit: https://predictivehacks.com/tips-about-numpy-arrays/\n",
    "\n",
    "One of the reduction functions is `np.sum`. You can apply it across any dimensions.\n",
    "\n",
    "<table><tr>\n",
    "<td> <img src=\"06_sum0.png\" width=\"600\"/> </td>\n",
    "<td> <img src=\"07_sum1.png\" width=\"420\"/>  </td>\n",
    "</tr></table>\n",
    "\n",
    "Credits: https://www.sharpsightlabs.com/blog/numpy-sum/\n",
    "\n",
    "Errata: The sum values are incorrect in the left figure"
   ]
  },
  {
   "cell_type": "code",
   "execution_count": null,
   "metadata": {},
   "outputs": [],
   "source": [
    "a = np.array([[1, 3, 3, 5],\n",
    "              [2, 7, 3, 6]])\n",
    "assert a.shape == (2, 4)\n",
    "\n",
    "b = np.array([[3],\n",
    "              [2]])\n",
    "assert b.shape == (2, 1)"
   ]
  },
  {
   "cell_type": "markdown",
   "metadata": {},
   "source": [
    "Another reduction function is the mean"
   ]
  },
  {
   "cell_type": "code",
   "execution_count": null,
   "metadata": {},
   "outputs": [],
   "source": [
    "np.mean(a, axis=0)"
   ]
  },
  {
   "cell_type": "markdown",
   "metadata": {},
   "source": [
    "Another reduction function is the standard deviation"
   ]
  },
  {
   "cell_type": "code",
   "execution_count": null,
   "metadata": {},
   "outputs": [],
   "source": [
    "np.std(a, axis=1)"
   ]
  },
  {
   "cell_type": "markdown",
   "metadata": {},
   "source": [
    "Another reduction function is the variance"
   ]
  },
  {
   "cell_type": "code",
   "execution_count": null,
   "metadata": {},
   "outputs": [],
   "source": [
    "np.var(a, axis=1)"
   ]
  },
  {
   "cell_type": "markdown",
   "metadata": {},
   "source": [
    "You can also take the min and max"
   ]
  },
  {
   "cell_type": "code",
   "execution_count": null,
   "metadata": {},
   "outputs": [],
   "source": [
    "a.min(axis=0)"
   ]
  },
  {
   "cell_type": "markdown",
   "metadata": {},
   "source": [
    "You can also figure out where the min and max are placed!"
   ]
  },
  {
   "cell_type": "code",
   "execution_count": null,
   "metadata": {},
   "outputs": [],
   "source": [
    "a.argmax(axis=1)"
   ]
  },
  {
   "cell_type": "markdown",
   "metadata": {},
   "source": [
    "You can check how often a boolean array is true across a dimension by applying the mean function!"
   ]
  },
  {
   "cell_type": "code",
   "execution_count": null,
   "metadata": {},
   "outputs": [],
   "source": [
    "(a == b).mean(axis=1)"
   ]
  },
  {
   "cell_type": "markdown",
   "metadata": {},
   "source": [
    "To perform logical and/or operations, you can check if *all* or *any* of the boolean entries across a dimension are true"
   ]
  },
  {
   "cell_type": "code",
   "execution_count": null,
   "metadata": {},
   "outputs": [],
   "source": [
    "c = (a > b)\n",
    "assert c.shape == (2, 4)\n",
    "\n",
    "c"
   ]
  },
  {
   "cell_type": "code",
   "execution_count": null,
   "metadata": {},
   "outputs": [],
   "source": [
    "c.all(axis=0)"
   ]
  },
  {
   "cell_type": "code",
   "execution_count": null,
   "metadata": {},
   "outputs": [],
   "source": [
    "c.any(axis=0)"
   ]
  },
  {
   "cell_type": "markdown",
   "metadata": {},
   "source": [
    "# Case Study\n",
    "\n",
    "Images are arrays of intensity values.\n",
    "\n",
    "<img src=\"04_parrot.jpg\" alt=\"Drawing\" style=\"width: 30%\"/>\n",
    "\n",
    "Photo credit: [https://www.thefactsite.com/facts-about-parrots/](https://www.thefactsite.com/facts-about-parrots/)"
   ]
  },
  {
   "cell_type": "code",
   "execution_count": null,
   "metadata": {},
   "outputs": [],
   "source": [
    "img_arr = plt.imread('04_parrot.jpg')\n",
    "\n",
    "# The image dimensions\n",
    "img_arr.shape"
   ]
  },
  {
   "cell_type": "markdown",
   "metadata": {},
   "source": [
    "**Question**: What do the shape dimensions mean?\n",
    "* The first dimension corresponds to the height of the image (700 pixels).\n",
    "* The second dimension corresponds to the width of the image (900 pixels).\n",
    "* The third dimension corresponds to the color channels (red, green, and blue)."
   ]
  },
  {
   "cell_type": "code",
   "execution_count": null,
   "metadata": {},
   "outputs": [],
   "source": [
    "height, widht, channels = img_arr.shape"
   ]
  },
  {
   "cell_type": "code",
   "execution_count": null,
   "metadata": {},
   "outputs": [],
   "source": [
    "img_arr.dtype"
   ]
  },
  {
   "cell_type": "code",
   "execution_count": null,
   "metadata": {},
   "outputs": [],
   "source": [
    "img_arr.min(), img_arr.max()"
   ]
  },
  {
   "cell_type": "code",
   "execution_count": null,
   "metadata": {},
   "outputs": [],
   "source": [
    "# The red channel\n",
    "red_channel = img_arr[:, :, 0]\n",
    "assert red_channel.shape == (700, 900)\n",
    "\n",
    "# The green channel\n",
    "green_channel = img_arr[:, :, 1]\n",
    "assert green_channel.shape == (700, 900)\n",
    "\n",
    "# The blue channel\n",
    "blue_channel = img_arr[:, :, 2]\n",
    "assert blue_channel.shape == (700, 900)\n",
    "\n",
    "\n",
    "fig, axes = plt.subplots(1, 3, dpi=144, figsize=(3.6*3, 2.8), sharex=True, sharey=True)\n",
    "\n",
    "ax = axes[0]\n",
    "ax.imshow(red_channel, cmap='gray')\n",
    "ax.set_title('The Red Channel')\n",
    "\n",
    "ax = axes[1]\n",
    "ax.imshow(green_channel, cmap='gray')\n",
    "ax.set_title('The Green Channel')\n",
    "\n",
    "ax = axes[2]\n",
    "ax.imshow(blue_channel, cmap='gray')\n",
    "ax.set_title('The Blue Channel');"
   ]
  },
  {
   "cell_type": "markdown",
   "metadata": {},
   "source": [
    "Let's remove the green channel for fun!"
   ]
  },
  {
   "cell_type": "code",
   "execution_count": null,
   "metadata": {},
   "outputs": [],
   "source": [
    "img_arr2 = img_arr.copy()\n",
    "img_arr2[:, :, 1] = 0\n",
    "\n",
    "plt.imshow(img_arr2);"
   ]
  },
  {
   "cell_type": "markdown",
   "metadata": {},
   "source": [
    "The linear luminance of a pixel can be computed as\n",
    "\n",
    "$$ Y = 0.2126 R + 0.7152 G + 0.0722 B $$\n",
    "\n",
    "<font color=red>Challenge</font>: Take this colored image, and turn it into a gray-scaled image. Do this in four different way."
   ]
  },
  {
   "cell_type": "markdown",
   "metadata": {},
   "source": [
    "**Approach 1**: Take a manual summation"
   ]
  },
  {
   "cell_type": "code",
   "execution_count": null,
   "metadata": {},
   "outputs": [],
   "source": [
    "gray1 = 0.2126 * red_channel + 0.7152 * green_channel + 0.0722 * blue_channel\n",
    "plt.imshow(gray1, cmap='gray');"
   ]
  },
  {
   "cell_type": "markdown",
   "metadata": {},
   "source": [
    "**Approach 2**: Broadcast-multiply by weights, and then take a summation!"
   ]
  },
  {
   "cell_type": "code",
   "execution_count": null,
   "metadata": {},
   "outputs": [],
   "source": [
    "# TODO: implement approach 2"
   ]
  },
  {
   "cell_type": "markdown",
   "metadata": {},
   "source": [
    "**Approach 3**: Do it with matrix multiplication!"
   ]
  },
  {
   "cell_type": "code",
   "execution_count": null,
   "metadata": {},
   "outputs": [],
   "source": [
    "# TODO: implement approach 3"
   ]
  },
  {
   "cell_type": "markdown",
   "metadata": {},
   "source": [
    "**Approach 4**: Do it with einstein sums!"
   ]
  },
  {
   "cell_type": "code",
   "execution_count": null,
   "metadata": {},
   "outputs": [],
   "source": [
    "# TODO: implement approach 4"
   ]
  },
  {
   "cell_type": "markdown",
   "metadata": {},
   "source": [
    "<font color=red>Challenge</font>: Replace each pixel with the average of its neighbors. Do not use convolutions."
   ]
  },
  {
   "cell_type": "code",
   "execution_count": null,
   "metadata": {},
   "outputs": [],
   "source": [
    "# TODO: implement this challenge"
   ]
  },
  {
   "cell_type": "markdown",
   "metadata": {},
   "source": [
    "<font color=red>Challenge</font>: This is a 700 by 900 pixel image:\n",
    "\n",
    "* Divide it into 7 by 9 grids.\n",
    "* In each grid, find the pixel with maximum luminance.\n",
    "* Print the **colored max-luminance** image.\n",
    "* You can only use array operations (i.e., no loops/lists/etc.)"
   ]
  },
  {
   "cell_type": "code",
   "execution_count": null,
   "metadata": {},
   "outputs": [],
   "source": [
    "# TODO: implement this challenge"
   ]
  },
  {
   "cell_type": "markdown",
   "metadata": {},
   "source": [
    "<font color=red>Challenge</font>: Let's say you have an $N\\times D$ data matrix and a bunch of labels $y$. You have $C$ classes in your data.\n",
    "    \n",
    "Find the data mean within each class. You can only use numpy operations."
   ]
  },
  {
   "cell_type": "code",
   "execution_count": null,
   "metadata": {},
   "outputs": [],
   "source": [
    "N = 100\n",
    "D = 8\n",
    "C = 10\n",
    "\n",
    "np.random.seed(12345)\n",
    "X = np.random.randn(N, D)\n",
    "assert X.shape == (N, D)\n",
    "Y = np.random.randint(0, C, N)\n",
    "assert Y.shape == (N,)"
   ]
  },
  {
   "cell_type": "code",
   "execution_count": null,
   "metadata": {},
   "outputs": [],
   "source": [
    "# TODO: implement this challenge"
   ]
  },
  {
   "cell_type": "code",
   "execution_count": null,
   "metadata": {},
   "outputs": [],
   "source": []
  }
 ],
 "metadata": {
  "kernelspec": {
   "display_name": "Python 3",
   "language": "python",
   "name": "python3"
  },
  "language_info": {
   "codemirror_mode": {
    "name": "ipython",
    "version": 3
   },
   "file_extension": ".py",
   "mimetype": "text/x-python",
   "name": "python",
   "nbconvert_exporter": "python",
   "pygments_lexer": "ipython3",
   "version": "3.7.6"
  },
  "vscode": {
   "interpreter": {
    "hash": "916dbcbb3f70747c44a77c7bcd40155683ae19c65e1c03b4aa3499c5328201f1"
   }
  }
 },
 "nbformat": 4,
 "nbformat_minor": 4
}
